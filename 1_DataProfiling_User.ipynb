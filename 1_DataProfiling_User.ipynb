{
 "cells": [
  {
   "cell_type": "code",
   "execution_count": 1,
   "metadata": {},
   "outputs": [],
   "source": [
    "import pandas as pd\n",
    "import numpy as np\n",
    "import matplotlib.pyplot as plt\n",
    "import datetime as dt"
   ]
  },
  {
   "cell_type": "code",
   "execution_count": 2,
   "metadata": {},
   "outputs": [],
   "source": [
    "def plotBars(df,field, fieldID, sort=True, topN=0):\n",
    "    a = len(df[fieldID].unique())\n",
    "    print('***Unique count:', a)\n",
    "    res = (df[[fieldID,field]]\n",
    "           .groupby(field)\n",
    "           .count())\n",
    "    if sort==True: res = res.sort_values(fieldID, ascending=False)\n",
    "    if topN>0: res = res.head(topN) \n",
    "    res.plot.bar(figsize=(16,5))\n",
    "    y = res[fieldID]\n",
    "    for i, v in enumerate(y):\n",
    "        plt.text(i-.1, v+7 , str(v), fontweight='bold')\n",
    "    m = res.mean() \n",
    "    plt.plot([-1,i+1],[m,m],color='red')\n",
    "    plt.legend(['Mean','Count'])\n",
    "    plt.title(field)\n",
    "    plt.show()\n",
    "\n",
    "def getNomDummies(df,field):\n",
    "    dm = pd.get_dummies(df[field])\n",
    "    df = pd.concat([df, dm], axis=1)\n",
    "    return df\n",
    "\n",
    "def getFreqDummies(df,fieldID, field, n, cat=None, flag=0):\n",
    "    #Frequency dummy variable\n",
    "    if flag==0: \n",
    "        cat = df[[fieldID,field]].groupby(field).count()/n\n",
    "    return df[field].apply(lambda x: cat.loc[x]), cat\n",
    "\n",
    "def transCusine(df):\n",
    "    df.loc[df.Rcuisine=='Spanish', 'Rcuisine'] = 'EU'\n",
    "    df.loc[df.Rcuisine=='Italian', 'Rcuisine'] = 'EU'\n",
    "    df.loc[df.Rcuisine=='Armenian', 'Rcuisine'] = 'EU'\n",
    "    df.loc[df.Rcuisine=='Polish', 'Rcuisine'] = 'EU'\n",
    "    df.loc[df.Rcuisine=='Dutch-Belgian', 'Rcuisine'] = 'EU'\n",
    "    df.loc[df.Rcuisine=='French', 'Rcuisine'] = 'EU'\n",
    "    df.loc[df.Rcuisine=='German', 'Rcuisine'] = 'EU'\n",
    "    df.loc[df.Rcuisine=='Continental-European', 'Rcuisine'] = 'EU'\n",
    "    df.loc[df.Rcuisine=='Greek', 'Rcuisine'] = 'EU'\n",
    "    df.loc[df.Rcuisine=='Eastern_European', 'Rcuisine'] = 'EU'\n",
    "    df.loc[df.Rcuisine=='Romanian', 'Rcuisine'] = 'EU'\n",
    "    df.loc[df.Rcuisine=='British', 'Rcuisine'] = 'EU'\n",
    "    df.loc[df.Rcuisine=='Russian-Ukrainian', 'Rcuisine'] = 'EU'\n",
    "    df.loc[df.Rcuisine=='Irish', 'Rcuisine'] = 'EU'\n",
    "    df.loc[df.Rcuisine=='Swiss', 'Rcuisine'] = 'EU'\n",
    "    df.loc[df.Rcuisine=='Hungarian', 'Rcuisine'] = 'EU'\n",
    "    df.loc[df.Rcuisine=='Scandinavian', 'Rcuisine'] = 'EU'\n",
    "    df.loc[df.Rcuisine=='Pacific_Rim', 'Rcuisine'] = 'EU'\n",
    "    df.loc[df.Rcuisine=='Portuguese', 'Rcuisine'] = 'EU'\n",
    "    df.loc[df.Rcuisine=='American', 'Rcuisine'] = 'NA'\n",
    "    df.loc[df.Rcuisine=='Southwestern', 'Rcuisine'] = 'NA'\n",
    "    df.loc[df.Rcuisine=='Southern', 'Rcuisine'] = 'NA'\n",
    "    df.loc[df.Rcuisine=='California', 'Rcuisine'] = 'NA'\n",
    "    df.loc[df.Rcuisine=='Hawaiian', 'Rcuisine'] = 'NA'\n",
    "    df.loc[df.Rcuisine=='Canadian', 'Rcuisine'] = 'NA'\n",
    "    df.loc[df.Rcuisine=='Pacific_Northwest', 'Rcuisine'] = 'NA'\n",
    "    df.loc[df.Rcuisine=='Tex-Mex', 'Rcuisine'] = 'NA'\n",
    "    df.loc[df.Rcuisine=='Latin_American', 'Rcuisine'] = 'LA'\n",
    "    df.loc[df.Rcuisine=='Mexican', 'Rcuisine'] = 'LA'\n",
    "    df.loc[df.Rcuisine=='Brazilian', 'Rcuisine'] = 'LA'\n",
    "    df.loc[df.Rcuisine=='Caribbean', 'Rcuisine'] = 'LA'\n",
    "    df.loc[df.Rcuisine=='Chilean', 'Rcuisine'] = 'LA'\n",
    "    df.loc[df.Rcuisine=='Cuban', 'Rcuisine'] = 'LA'\n",
    "    df.loc[df.Rcuisine=='Jamaican', 'Rcuisine'] = 'LA'\n",
    "    df.loc[df.Rcuisine=='Asian', 'Rcuisine'] = 'ASIA'\n",
    "    df.loc[df.Rcuisine=='Mongolian', 'Rcuisine'] = 'ASIA'\n",
    "    df.loc[df.Rcuisine=='Japanese', 'Rcuisine'] = 'ASIA'\n",
    "    df.loc[df.Rcuisine=='Sushi', 'Rcuisine'] = 'ASIA'\n",
    "    df.loc[df.Rcuisine=='Chinese', 'Rcuisine'] = 'ASIA'\n",
    "    df.loc[df.Rcuisine=='Mediterranean', 'Rcuisine'] = 'ASIA'\n",
    "    df.loc[df.Rcuisine=='Afghan', 'Rcuisine'] = 'ASIA'\n",
    "    df.loc[df.Rcuisine=='Vietnamese', 'Rcuisine'] = 'ASIA'\n",
    "    df.loc[df.Rcuisine=='Korean', 'Rcuisine'] = 'ASIA'\n",
    "    df.loc[df.Rcuisine=='Thai', 'Rcuisine'] = 'ASIA'\n",
    "    df.loc[df.Rcuisine=='Persian', 'Rcuisine'] = 'ASIA'\n",
    "    df.loc[df.Rcuisine=='Turkish', 'Rcuisine'] = 'ASIA'\n",
    "    df.loc[df.Rcuisine=='Australian', 'Rcuisine'] = 'ASIA'\n",
    "    df.loc[df.Rcuisine=='Austrian', 'Rcuisine'] = 'ASIA'\n",
    "    df.loc[df.Rcuisine=='Israeli', 'Rcuisine'] = 'ASIA'\n",
    "    df.loc[df.Rcuisine=='Malaysian', 'Rcuisine'] = 'ASIA'\n",
    "    df.loc[df.Rcuisine=='Peruvian', 'Rcuisine'] = 'ASIA'\n",
    "    df.loc[df.Rcuisine=='Cambodian', 'Rcuisine'] = 'ASIA'\n",
    "    df.loc[df.Rcuisine=='Tunisian', 'Rcuisine'] = 'ASIA'\n",
    "    df.loc[df.Rcuisine=='Filipino', 'Rcuisine'] = 'ASIA'\n",
    "    df.loc[df.Rcuisine=='Indigenous', 'Rcuisine'] = 'ASIA'\n",
    "    df.loc[df.Rcuisine=='Indonesian', 'Rcuisine'] = 'ASIA'\n",
    "    df.loc[df.Rcuisine=='Tibetan', 'Rcuisine'] = 'ASIA'\n",
    "    df.loc[df.Rcuisine=='Southeast_Asian', 'Rcuisine'] = 'ASIA'\n",
    "    df.loc[df.Rcuisine=='Indian-Pakistani', 'Rcuisine'] = 'ASIA'\n",
    "    df.loc[df.Rcuisine=='Polynesian', 'Rcuisine'] = 'ASIA'\n",
    "    df.loc[df.Rcuisine=='Middle_Eastern', 'Rcuisine'] = 'ASIA'\n",
    "    df.loc[df.Rcuisine=='Burmese', 'Rcuisine'] = 'ASIA'\n",
    "    df.loc[df.Rcuisine=='Lebanese', 'Rcuisine'] = 'ASIA'\n",
    "    df.loc[df.Rcuisine=='African', 'Rcuisine'] = 'AFRICA'\n",
    "    df.loc[df.Rcuisine=='Ethiopian', 'Rcuisine'] = 'AFRICA'\n",
    "    df.loc[df.Rcuisine=='North_African', 'Rcuisine'] = 'AFRICA'\n",
    "    df.loc[df.Rcuisine=='Moroccan', 'Rcuisine'] = 'AFRICA'\n",
    "    df.loc[df.Rcuisine=='Fast_Food', 'Rcuisine'] = 'ONEKIND'\n",
    "    df.loc[df.Rcuisine=='Burgers', 'Rcuisine'] = 'ONEKIND'\n",
    "    df.loc[df.Rcuisine=='Deli-Sandwiches', 'Rcuisine'] = 'ONEKIND'\n",
    "    df.loc[df.Rcuisine=='Pizzeria', 'Rcuisine'] = 'ONEKIND'\n",
    "    df.loc[df.Rcuisine=='Bagels', 'Rcuisine'] = 'ONEKIND'\n",
    "    df.loc[df.Rcuisine=='Dessert-Ice_Cream', 'Rcuisine'] = 'ONEKIND'\n",
    "    df.loc[df.Rcuisine=='Hot_Dogs', 'Rcuisine'] = 'ONEKIND'\n",
    "    df.loc[df.Rcuisine=='Bakery', 'Rcuisine'] = 'ONEKIND'\n",
    "    df.loc[df.Rcuisine=='Barbecue', 'Rcuisine'] = 'ONEKIND'\n",
    "    df.loc[df.Rcuisine=='Doughnuts', 'Rcuisine'] = 'ONEKIND'\n",
    "    df.loc[df.Rcuisine=='Soup', 'Rcuisine'] = 'ONEKIND'\n",
    "    df.loc[df.Rcuisine=='Regional', 'Rcuisine'] = 'ONEKIND'\n",
    "    df.loc[df.Rcuisine=='Seafood', 'Rcuisine'] = 'ONEKIND'\n",
    "    df.loc[df.Rcuisine=='Steaks', 'Rcuisine'] = 'ONEKIND'\n",
    "    df.loc[df.Rcuisine=='Tea_House', 'Rcuisine'] = 'ONEKIND'\n",
    "    df.loc[df.Rcuisine=='Tapas', 'Rcuisine'] = 'ONEKIND'\n",
    "    df.loc[df.Rcuisine=='Eclectic', 'Rcuisine'] = 'ONEKIND'\n",
    "    df.loc[df.Rcuisine=='Fusion', 'Rcuisine'] = 'ONEKIND'\n",
    "    df.loc[df.Rcuisine=='Basque', 'Rcuisine'] = 'ONEKIND'\n",
    "    df.loc[df.Rcuisine=='Dim_Sum', 'Rcuisine'] = 'ONEKIND'\n",
    "    df.loc[df.Rcuisine=='Cajun-Creole', 'Rcuisine'] = 'ONEKIND'\n",
    "    df.loc[df.Rcuisine=='Kosher', 'Rcuisine'] = 'ONEKIND'\n",
    "    df.loc[df.Rcuisine=='International', 'Rcuisine'] = 'OTHER'\n",
    "    df.loc[df.Rcuisine=='Contemporary', 'Rcuisine'] = 'OTHER'\n",
    "    df.loc[df.Rcuisine=='Fine_Dining', 'Rcuisine'] = 'OTHER'\n",
    "    df.loc[df.Rcuisine=='Diner', 'Rcuisine'] = 'OTHER'\n",
    "    df.loc[df.Rcuisine=='Breakfast-Brunch', 'Rcuisine'] = 'OTHER'\n",
    "    df.loc[df.Rcuisine=='Family', 'Rcuisine'] = 'OTHER'\n",
    "    df.loc[df.Rcuisine=='Game', 'Rcuisine'] = 'OTHER'\n",
    "    df.loc[df.Rcuisine=='Vegetarian', 'Rcuisine'] = 'OTHER'\n",
    "    df.loc[df.Rcuisine=='Organic-Healthy', 'Rcuisine'] = 'OTHER'\n",
    "    df.loc[df.Rcuisine=='Juice', 'Rcuisine'] = 'DRINK'\n",
    "    df.loc[df.Rcuisine=='Bar', 'Rcuisine'] = 'DRINK'\n",
    "    df.loc[df.Rcuisine=='Bar_Pub_Brewery', 'Rcuisine'] = 'DRINK'\n",
    "    df.loc[df.Rcuisine=='Cafe-Coffee_Shop', 'Rcuisine'] = 'DRINK'\n",
    "    df.loc[df.Rcuisine=='Cafeteria', 'Rcuisine'] = 'DRINK'\n"
   ]
  },
  {
   "cell_type": "code",
   "execution_count": 3,
   "metadata": {},
   "outputs": [],
   "source": [
    "ratings = pd.read_csv('3_Ratings.csv')\n",
    "users = pd.read_csv('2_user_perfil.csv')\n",
    "restaurants = pd.read_csv('1_rest5_perfil.csv')"
   ]
  },
  {
   "cell_type": "markdown",
   "metadata": {},
   "source": [
    "### Kitchen"
   ]
  },
  {
   "cell_type": "code",
   "execution_count": 4,
   "metadata": {},
   "outputs": [
    {
     "name": "stdout",
     "output_type": "stream",
     "text": [
      "***Unique count: 138\n"
     ]
    },
    {
     "data": {
      "image/png": "[encoded data removed]",
      "text/plain": [
       "<matplotlib.figure.Figure at 0x7f97ad766dd8>"
      ]
     },
     "metadata": {},
     "output_type": "display_data"
    }
   ],
   "source": [
    "usrKit = pd.read_csv('2_User_cocina.csv')\n",
    "nuk = len(usrKit)\n",
    "\n",
    "# Clean data\n",
    "transCusine(usrKit) \n",
    "plotBars(usrKit,'Rcuisine','userID')  \n",
    "#Frequency nominal variable\n",
    "usrKit = getNomDummies(usrKit,'Rcuisine')\n",
    "usrKit = usrKit.groupby('userID').sum().reset_index(level='userID')"
   ]
  },
  {
   "cell_type": "code",
   "execution_count": 5,
   "metadata": {},
   "outputs": [
    {
     "name": "stdout",
     "output_type": "stream",
     "text": [
      "<class 'pandas.core.frame.DataFrame'>\n",
      "RangeIndex: 138 entries, 0 to 137\n",
      "Data columns (total 9 columns):\n",
      "userID     138 non-null object\n",
      "AFRICA     138 non-null uint8\n",
      "ASIA       138 non-null uint8\n",
      "DRINK      138 non-null uint8\n",
      "EU         138 non-null uint8\n",
      "LA         138 non-null uint8\n",
      "NA         138 non-null uint8\n",
      "ONEKIND    138 non-null uint8\n",
      "OTHER      138 non-null uint8\n",
      "dtypes: object(1), uint8(8)\n",
      "memory usage: 2.2+ KB\n"
     ]
    },
    {
     "data": {
      "text/html": [
       "<div>\n",
       "<style>\n",
       "    .dataframe thead tr:only-child th {\n",
       "        text-align: right;\n",
       "    }\n",
       "\n",
       "    .dataframe thead th {\n",
       "        text-align: left;\n",
       "    }\n",
       "\n",
       "    .dataframe tbody tr th {\n",
       "        vertical-align: top;\n",
       "    }\n",
       "</style>\n",
       "<table border=\"1\" class=\"dataframe\">\n",
       "  <thead>\n",
       "    <tr style=\"text-align: right;\">\n",
       "      <th></th>\n",
       "      <th>userID</th>\n",
       "      <th>AFRICA</th>\n",
       "      <th>ASIA</th>\n",
       "      <th>DRINK</th>\n",
       "      <th>EU</th>\n",
       "      <th>LA</th>\n",
       "      <th>NA</th>\n",
       "      <th>ONEKIND</th>\n",
       "      <th>OTHER</th>\n",
       "    </tr>\n",
       "  </thead>\n",
       "  <tbody>\n",
       "    <tr>\n",
       "      <th>0</th>\n",
       "      <td>U1001</td>\n",
       "      <td>0</td>\n",
       "      <td>0</td>\n",
       "      <td>0</td>\n",
       "      <td>0</td>\n",
       "      <td>0</td>\n",
       "      <td>1</td>\n",
       "      <td>0</td>\n",
       "      <td>0</td>\n",
       "    </tr>\n",
       "    <tr>\n",
       "      <th>1</th>\n",
       "      <td>U1002</td>\n",
       "      <td>0</td>\n",
       "      <td>0</td>\n",
       "      <td>0</td>\n",
       "      <td>0</td>\n",
       "      <td>1</td>\n",
       "      <td>0</td>\n",
       "      <td>0</td>\n",
       "      <td>0</td>\n",
       "    </tr>\n",
       "    <tr>\n",
       "      <th>2</th>\n",
       "      <td>U1003</td>\n",
       "      <td>0</td>\n",
       "      <td>0</td>\n",
       "      <td>0</td>\n",
       "      <td>0</td>\n",
       "      <td>1</td>\n",
       "      <td>0</td>\n",
       "      <td>0</td>\n",
       "      <td>0</td>\n",
       "    </tr>\n",
       "  </tbody>\n",
       "</table>\n",
       "</div>"
      ],
      "text/plain": [
       "  userID  AFRICA  ASIA  DRINK  EU  LA  NA  ONEKIND  OTHER\n",
       "0  U1001       0     0      0   0   0   1        0      0\n",
       "1  U1002       0     0      0   0   1   0        0      0\n",
       "2  U1003       0     0      0   0   1   0        0      0"
      ]
     },
     "execution_count": 5,
     "metadata": {},
     "output_type": "execute_result"
    }
   ],
   "source": [
    "usrKit.info()\n",
    "usrKit.head(3)"
   ]
  },
  {
   "cell_type": "markdown",
   "metadata": {},
   "source": [
    "### Pago"
   ]
  },
  {
   "cell_type": "code",
   "execution_count": 6,
   "metadata": {},
   "outputs": [],
   "source": [
    "usrPay = pd.read_csv('2_user_pago.csv')\n",
    "nupy = len(usrPay)"
   ]
  },
  {
   "cell_type": "code",
   "execution_count": 7,
   "metadata": {},
   "outputs": [
    {
     "name": "stdout",
     "output_type": "stream",
     "text": [
      "***Unique count: 133\n"
     ]
    },
    {
     "data": {
      "image/png": "[encoded data removed]",
      "text/plain": [
       "<matplotlib.figure.Figure at 0x7f97ad3d7ba8>"
      ]
     },
     "metadata": {},
     "output_type": "display_data"
    }
   ],
   "source": [
    "# Clean data\n",
    "usrPay.loc[usrPay.Upayment=='Visa', 'Upayment'] = 'VISA'   \n",
    "plotBars(usrPay,'Upayment','userID')  \n",
    "#Frequency nominal variable\n",
    "usrPay = getNomDummies(usrPay,'Upayment')\n",
    "usrPay = usrPay.groupby('userID').sum().reset_index(level='userID')"
   ]
  },
  {
   "cell_type": "code",
   "execution_count": 8,
   "metadata": {},
   "outputs": [
    {
     "name": "stdout",
     "output_type": "stream",
     "text": [
      "<class 'pandas.core.frame.DataFrame'>\n",
      "RangeIndex: 133 entries, 0 to 132\n",
      "Data columns (total 6 columns):\n",
      "userID                 133 non-null object\n",
      "American_Express       133 non-null uint8\n",
      "MasterCard-Eurocard    133 non-null uint8\n",
      "VISA                   133 non-null uint8\n",
      "bank_debit_cards       133 non-null uint8\n",
      "cash                   133 non-null uint8\n",
      "dtypes: object(1), uint8(5)\n",
      "memory usage: 1.8+ KB\n"
     ]
    },
    {
     "data": {
      "text/html": [
       "<div>\n",
       "<style>\n",
       "    .dataframe thead tr:only-child th {\n",
       "        text-align: right;\n",
       "    }\n",
       "\n",
       "    .dataframe thead th {\n",
       "        text-align: left;\n",
       "    }\n",
       "\n",
       "    .dataframe tbody tr th {\n",
       "        vertical-align: top;\n",
       "    }\n",
       "</style>\n",
       "<table border=\"1\" class=\"dataframe\">\n",
       "  <thead>\n",
       "    <tr style=\"text-align: right;\">\n",
       "      <th></th>\n",
       "      <th>userID</th>\n",
       "      <th>American_Express</th>\n",
       "      <th>MasterCard-Eurocard</th>\n",
       "      <th>VISA</th>\n",
       "      <th>bank_debit_cards</th>\n",
       "      <th>cash</th>\n",
       "    </tr>\n",
       "  </thead>\n",
       "  <tbody>\n",
       "    <tr>\n",
       "      <th>0</th>\n",
       "      <td>U1001</td>\n",
       "      <td>0</td>\n",
       "      <td>0</td>\n",
       "      <td>0</td>\n",
       "      <td>0</td>\n",
       "      <td>1</td>\n",
       "    </tr>\n",
       "    <tr>\n",
       "      <th>1</th>\n",
       "      <td>U1002</td>\n",
       "      <td>0</td>\n",
       "      <td>0</td>\n",
       "      <td>0</td>\n",
       "      <td>0</td>\n",
       "      <td>1</td>\n",
       "    </tr>\n",
       "    <tr>\n",
       "      <th>2</th>\n",
       "      <td>U1003</td>\n",
       "      <td>0</td>\n",
       "      <td>0</td>\n",
       "      <td>0</td>\n",
       "      <td>0</td>\n",
       "      <td>1</td>\n",
       "    </tr>\n",
       "  </tbody>\n",
       "</table>\n",
       "</div>"
      ],
      "text/plain": [
       "  userID  American_Express  MasterCard-Eurocard  VISA  bank_debit_cards  cash\n",
       "0  U1001                 0                    0     0                 0     1\n",
       "1  U1002                 0                    0     0                 0     1\n",
       "2  U1003                 0                    0     0                 0     1"
      ]
     },
     "execution_count": 8,
     "metadata": {},
     "output_type": "execute_result"
    }
   ],
   "source": [
    "usrPay.info()\n",
    "usrPay.head(3)"
   ]
  },
  {
   "cell_type": "markdown",
   "metadata": {},
   "source": [
    "### Profile"
   ]
  },
  {
   "cell_type": "code",
   "execution_count": 9,
   "metadata": {},
   "outputs": [
    {
     "name": "stdout",
     "output_type": "stream",
     "text": [
      "<class 'pandas.core.frame.DataFrame'>\n",
      "RangeIndex: 138 entries, 0 to 137\n",
      "Data columns (total 32 columns):\n",
      "userID                  138 non-null object\n",
      "latitude                138 non-null float64\n",
      "longitude               138 non-null float64\n",
      "smoker                  138 non-null int64\n",
      "drink_level             138 non-null int64\n",
      "dress_preference        138 non-null int64\n",
      "ambience                138 non-null object\n",
      "transport               138 non-null int64\n",
      "marital_status          138 non-null object\n",
      "hijos                   138 non-null int64\n",
      "birth_year              138 non-null int64\n",
      "interest                138 non-null object\n",
      "personality             138 non-null object\n",
      "religion                138 non-null object\n",
      "activity                138 non-null object\n",
      "color                   138 non-null object\n",
      "weight                  138 non-null int64\n",
      "budget                  138 non-null int64\n",
      "height                  138 non-null float64\n",
      "age                     138 non-null int64\n",
      "drink_levelFreq         138 non-null float64\n",
      "dress_preferenceFreq    138 non-null float64\n",
      "ambienceFreq            138 non-null float64\n",
      "transportFreq           138 non-null float64\n",
      "marital_statusFreq      138 non-null float64\n",
      "hijosFreq               138 non-null float64\n",
      "interestFreq            138 non-null float64\n",
      "personalityFreq         138 non-null float64\n",
      "religionFreq            138 non-null float64\n",
      "activityFreq            138 non-null float64\n",
      "colorFreq               138 non-null float64\n",
      "budgetFreq              138 non-null float64\n",
      "dtypes: float64(15), int64(9), object(8)\n",
      "memory usage: 34.6+ KB\n"
     ]
    },
    {
     "data": {
      "text/html": [
       "<div>\n",
       "<style>\n",
       "    .dataframe thead tr:only-child th {\n",
       "        text-align: right;\n",
       "    }\n",
       "\n",
       "    .dataframe thead th {\n",
       "        text-align: left;\n",
       "    }\n",
       "\n",
       "    .dataframe tbody tr th {\n",
       "        vertical-align: top;\n",
       "    }\n",
       "</style>\n",
       "<table border=\"1\" class=\"dataframe\">\n",
       "  <thead>\n",
       "    <tr style=\"text-align: right;\">\n",
       "      <th></th>\n",
       "      <th>userID</th>\n",
       "      <th>latitude</th>\n",
       "      <th>longitude</th>\n",
       "      <th>smoker</th>\n",
       "      <th>drink_level</th>\n",
       "      <th>dress_preference</th>\n",
       "      <th>ambience</th>\n",
       "      <th>transport</th>\n",
       "      <th>marital_status</th>\n",
       "      <th>hijos</th>\n",
       "      <th>...</th>\n",
       "      <th>ambienceFreq</th>\n",
       "      <th>transportFreq</th>\n",
       "      <th>marital_statusFreq</th>\n",
       "      <th>hijosFreq</th>\n",
       "      <th>interestFreq</th>\n",
       "      <th>personalityFreq</th>\n",
       "      <th>religionFreq</th>\n",
       "      <th>activityFreq</th>\n",
       "      <th>colorFreq</th>\n",
       "      <th>budgetFreq</th>\n",
       "    </tr>\n",
       "  </thead>\n",
       "  <tbody>\n",
       "    <tr>\n",
       "      <th>0</th>\n",
       "      <td>U1001</td>\n",
       "      <td>22.139997</td>\n",
       "      <td>-100.978803</td>\n",
       "      <td>0</td>\n",
       "      <td>0</td>\n",
       "      <td>0</td>\n",
       "      <td>family</td>\n",
       "      <td>0</td>\n",
       "      <td>single</td>\n",
       "      <td>0</td>\n",
       "      <td>...</td>\n",
       "      <td>0.507246</td>\n",
       "      <td>0.746377</td>\n",
       "      <td>0.884058</td>\n",
       "      <td>0.92029</td>\n",
       "      <td>0.362319</td>\n",
       "      <td>0.420290</td>\n",
       "      <td>0.217391</td>\n",
       "      <td>0.818841</td>\n",
       "      <td>0.152174</td>\n",
       "      <td>0.710145</td>\n",
       "    </tr>\n",
       "    <tr>\n",
       "      <th>1</th>\n",
       "      <td>U1002</td>\n",
       "      <td>22.150087</td>\n",
       "      <td>-100.983325</td>\n",
       "      <td>0</td>\n",
       "      <td>0</td>\n",
       "      <td>0</td>\n",
       "      <td>family</td>\n",
       "      <td>0</td>\n",
       "      <td>single</td>\n",
       "      <td>0</td>\n",
       "      <td>...</td>\n",
       "      <td>0.507246</td>\n",
       "      <td>0.746377</td>\n",
       "      <td>0.884058</td>\n",
       "      <td>0.92029</td>\n",
       "      <td>0.260870</td>\n",
       "      <td>0.086957</td>\n",
       "      <td>0.717391</td>\n",
       "      <td>0.818841</td>\n",
       "      <td>0.108696</td>\n",
       "      <td>0.253623</td>\n",
       "    </tr>\n",
       "    <tr>\n",
       "      <th>2</th>\n",
       "      <td>U1003</td>\n",
       "      <td>22.119847</td>\n",
       "      <td>-100.946527</td>\n",
       "      <td>0</td>\n",
       "      <td>1</td>\n",
       "      <td>2</td>\n",
       "      <td>family</td>\n",
       "      <td>0</td>\n",
       "      <td>single</td>\n",
       "      <td>0</td>\n",
       "      <td>...</td>\n",
       "      <td>0.507246</td>\n",
       "      <td>0.746377</td>\n",
       "      <td>0.884058</td>\n",
       "      <td>0.92029</td>\n",
       "      <td>0.217391</td>\n",
       "      <td>0.442029</td>\n",
       "      <td>0.717391</td>\n",
       "      <td>0.818841</td>\n",
       "      <td>0.326087</td>\n",
       "      <td>0.253623</td>\n",
       "    </tr>\n",
       "  </tbody>\n",
       "</table>\n",
       "<p>3 rows × 32 columns</p>\n",
       "</div>"
      ],
      "text/plain": [
       "  userID   latitude   longitude  smoker  drink_level  dress_preference  \\\n",
       "0  U1001  22.139997 -100.978803       0            0                 0   \n",
       "1  U1002  22.150087 -100.983325       0            0                 0   \n",
       "2  U1003  22.119847 -100.946527       0            1                 2   \n",
       "\n",
       "  ambience  transport marital_status  hijos     ...      ambienceFreq  \\\n",
       "0   family          0         single      0     ...          0.507246   \n",
       "1   family          0         single      0     ...          0.507246   \n",
       "2   family          0         single      0     ...          0.507246   \n",
       "\n",
       "  transportFreq marital_statusFreq hijosFreq interestFreq personalityFreq  \\\n",
       "0      0.746377           0.884058   0.92029     0.362319        0.420290   \n",
       "1      0.746377           0.884058   0.92029     0.260870        0.086957   \n",
       "2      0.746377           0.884058   0.92029     0.217391        0.442029   \n",
       "\n",
       "   religionFreq  activityFreq  colorFreq  budgetFreq  \n",
       "0      0.217391      0.818841   0.152174    0.710145  \n",
       "1      0.717391      0.818841   0.108696    0.253623  \n",
       "2      0.717391      0.818841   0.326087    0.253623  \n",
       "\n",
       "[3 rows x 32 columns]"
      ]
     },
     "execution_count": 9,
     "metadata": {},
     "output_type": "execute_result"
    }
   ],
   "source": [
    "usrPf = pd.read_csv('2_user_perfil.csv')\n",
    "nupf = len(usrPf)\n",
    "# Cleansing data\n",
    "#-----------------------Create age--------------------------\n",
    "usrPf['age'] = dt.datetime.now().year - usrPf['birth_year']\n",
    "#-----------------------Delete ? rows-----------------------\n",
    "#msk = (usrPf[['userID','smoker','drink_level','dress_preference','ambience','transport','marital_status','hijos','interest','personality','religion','activity','color','budget']] == '?').any(axis=1)\n",
    "#print('***** Drop', np.sum(msk),'rows')\n",
    "#toDelete = usrPf[msk].index\n",
    "#usrPf.drop(toDelete, inplace=True)\n",
    "#----------------------Nominal variables--------------------\n",
    "usrPf.loc[usrPf.smoker == 'true', 'smoker'] = 1    #smoker\n",
    "usrPf.loc[usrPf.smoker == 'false', 'smoker'] = 0\n",
    "usrPf.loc[usrPf.smoker == '?', 'smoker'] = 0\n",
    "usrPf['smoker'] = usrPf['smoker'].astype(int)\n",
    "usrPf.loc[usrPf.dress_preference == 'informal',  'dress_preference'] = 0\n",
    "usrPf.loc[usrPf.dress_preference == 'formal',  'dress_preference'] = 2\n",
    "usrPf.loc[usrPf.dress_preference == 'no preference',  'dress_preference'] = 1\n",
    "usrPf.loc[usrPf.dress_preference == '?',  'dress_preference'] = 1\n",
    "usrPf.loc[usrPf.dress_preference == 'elegant',  'dress_preference'] = 3\n",
    "usrPf['dress_preference'] = usrPf['dress_preference'].astype(int)\n",
    "\n",
    "usrPf.loc[usrPf.transport == 'on foot',  'transport'] = 0\n",
    "usrPf.loc[usrPf.transport == 'public',  'transport'] = 0\n",
    "usrPf.loc[usrPf.transport == 'car owner',  'transport'] = 1\n",
    "usrPf.loc[usrPf.transport == '?',  'transport'] = 0\n",
    "usrPf['transport'] = usrPf['transport'].astype(int)\n",
    "\n",
    "usrPf.loc[usrPf.budget == 'low',  'budget'] = 0\n",
    "usrPf.loc[usrPf.budget == '?',  'budget'] = 1\n",
    "usrPf.loc[usrPf.budget == 'medium',  'budget'] = 1\n",
    "usrPf.loc[usrPf.budget == 'high',  'budget'] = 2\n",
    "usrPf['budget'] = usrPf['budget'].astype(int)\n",
    "\n",
    "usrPf.loc[usrPf.hijos == 'independent',  'hijos'] = 0\n",
    "usrPf.loc[usrPf.hijos == 'kids',  'hijos'] = 1\n",
    "usrPf.loc[usrPf.hijos == '?',  'hijos'] = 0\n",
    "usrPf.loc[usrPf.hijos == 'dependent',  'hijos'] = 0\n",
    "usrPf['hijos'] = usrPf['hijos'].astype(int)\n",
    "\n",
    "usrPf.loc[usrPf.drink_level == 'abstemious',  'drink_level'] = 0\n",
    "usrPf.loc[usrPf.drink_level == 'social drinker',  'drink_level'] = 1\n",
    "usrPf.loc[usrPf.drink_level == 'casual drinker',  'drink_level'] = 2\n",
    "usrPf['drink_level'] = usrPf['drink_level'].astype(int)\n",
    "\n",
    "fields = ['drink_level','dress_preference','ambience',\n",
    "          'transport','marital_status','hijos',\n",
    "          'interest','personality','religion','activity','color','budget']\n",
    "for f in fields:\n",
    "    #Frequency nominal variables\n",
    "    cad = f+'Freq'\n",
    "    usrPf[cad], _ = getFreqDummies(usrPf,'userID', f, nupf)\n",
    "\n",
    "\n",
    "usrPf.info()\n",
    "usrPf.head(3)"
   ]
  },
  {
   "cell_type": "code",
   "execution_count": 10,
   "metadata": {
    "scrolled": false
   },
   "outputs": [
    {
     "name": "stdout",
     "output_type": "stream",
     "text": [
      "***Unique count: 138\n"
     ]
    },
    {
     "data": {
      "image/png": "[encoded data removed]",
      "text/plain": [
       "<matplotlib.figure.Figure at 0x7f97ad3b1240>"
      ]
     },
     "metadata": {},
     "output_type": "display_data"
    },
    {
     "name": "stdout",
     "output_type": "stream",
     "text": [
      "***Unique count: 138\n"
     ]
    },
    {
     "data": {
      "image/png": "[encoded data removed]",
      "text/plain": [
       "<matplotlib.figure.Figure at 0x7f97ad331c18>"
      ]
     },
     "metadata": {},
     "output_type": "display_data"
    },
    {
     "name": "stdout",
     "output_type": "stream",
     "text": [
      "***Unique count: 138\n"
     ]
    },
    {
     "data": {
      "image/png": "[encoded data removed]",
      "text/plain": [
       "<matplotlib.figure.Figure at 0x7f97ad3bb2b0>"
      ]
     },
     "metadata": {},
     "output_type": "display_data"
    },
    {
     "name": "stdout",
     "output_type": "stream",
     "text": [
      "***Unique count: 138\n"
     ]
    },
    {
     "data": {
      "image/png": "[encoded data removed]",
      "text/plain": [
       "<matplotlib.figure.Figure at 0x7f97ad6fb358>"
      ]
     },
     "metadata": {},
     "output_type": "display_data"
    },
    {
     "name": "stdout",
     "output_type": "stream",
     "text": [
      "***Unique count: 138\n"
     ]
    },
    {
     "data": {
      "image/png": "[encoded data removed]",
      "text/plain": [
       "<matplotlib.figure.Figure at 0x7f97ad6c1ef0>"
      ]
     },
     "metadata": {},
     "output_type": "display_data"
    },
    {
     "name": "stdout",
     "output_type": "stream",
     "text": [
      "***Unique count: 138\n"
     ]
    },
    {
     "data": {
      "image/png": "[encoded data removed]",
      "text/plain": [
       "<matplotlib.figure.Figure at 0x7f97acf976d8>"
      ]
     },
     "metadata": {},
     "output_type": "display_data"
    },
    {
     "name": "stdout",
     "output_type": "stream",
     "text": [
      "***Unique count: 138\n"
     ]
    },
    {
     "data": {
      "image/png": "[encoded data removed]",
      "text/plain": [
       "<matplotlib.figure.Figure at 0x7f97acf05908>"
      ]
     },
     "metadata": {},
     "output_type": "display_data"
    },
    {
     "name": "stdout",
     "output_type": "stream",
     "text": [
      "***Unique count: 138\n"
     ]
    },
    {
     "data": {
      "image/png": "[encoded data removed]",
      "text/plain": [
       "<matplotlib.figure.Figure at 0x7f97acf38278>"
      ]
     },
     "metadata": {},
     "output_type": "display_data"
    },
    {
     "name": "stdout",
     "output_type": "stream",
     "text": [
      "***Unique count: 138\n"
     ]
    },
    {
     "data": {
      "image/png": "[encoded data removed]",
      "text/plain": [
       "<matplotlib.figure.Figure at 0x7f97ace68fd0>"
      ]
     },
     "metadata": {},
     "output_type": "display_data"
    },
    {
     "name": "stdout",
     "output_type": "stream",
     "text": [
      "***Unique count: 138\n"
     ]
    },
    {
     "data": {
      "image/png": "[encoded data removed]",
      "text/plain": [
       "<matplotlib.figure.Figure at 0x7f97acb84fd0>"
      ]
     },
     "metadata": {},
     "output_type": "display_data"
    },
    {
     "name": "stdout",
     "output_type": "stream",
     "text": [
      "***Unique count: 138\n"
     ]
    },
    {
     "data": {
      "image/png": "[encoded data removed]",
      "text/plain": [
       "<matplotlib.figure.Figure at 0x7f97acb16f98>"
      ]
     },
     "metadata": {},
     "output_type": "display_data"
    },
    {
     "name": "stdout",
     "output_type": "stream",
     "text": [
      "***Unique count: 138\n"
     ]
    },
    {
     "data": {
      "image/png": "[encoded data removed]",
      "text/plain": [
       "<matplotlib.figure.Figure at 0x7f97ac7a4d30>"
      ]
     },
     "metadata": {},
     "output_type": "display_data"
    }
   ],
   "source": [
    "fieldID = 'userID'\n",
    "fields = ['smoker','dress_preference','ambience',\n",
    "          'transport','marital_status','hijos',\n",
    "          'interest','personality','religion','activity','color','budget']\n",
    "for f in fields:\n",
    "    df = usrPf[[fieldID, f]]\n",
    "    plotBars(df, f, fieldID) "
   ]
  },
  {
   "cell_type": "code",
   "execution_count": 11,
   "metadata": {},
   "outputs": [
    {
     "data": {
      "image/png": "[encoded data removed]",
      "text/plain": [
       "<matplotlib.figure.Figure at 0x7f97ac7fa240>"
      ]
     },
     "metadata": {},
     "output_type": "display_data"
    },
    {
     "data": {
      "image/png": "[encoded data removed]",
      "text/plain": [
       "<matplotlib.figure.Figure at 0x7f97ac785320>"
      ]
     },
     "metadata": {},
     "output_type": "display_data"
    },
    {
     "data": {
      "image/png": "[encoded data removed]",
      "text/plain": [
       "<matplotlib.figure.Figure at 0x7f97aeab87f0>"
      ]
     },
     "metadata": {},
     "output_type": "display_data"
    },
    {
     "data": {
      "image/png": "[encoded data removed]",
      "text/plain": [
       "<matplotlib.figure.Figure at 0x7f97ad3bbf98>"
      ]
     },
     "metadata": {},
     "output_type": "display_data"
    }
   ],
   "source": [
    "fields = ['age','weight','height']\n",
    "for f in fields:\n",
    "    plt.figure(figsize=(16,3))\n",
    "    plt.title(f)\n",
    "    usrPf[f].hist()\n",
    "    plt.show()\n",
    "\n",
    "aux = pd.merge(usrPf[[fieldID,'age']], ratings, on=fieldID, how='outer')\n",
    "aux = (aux[['age','rating','food_rating','service_rating',]]\n",
    "       .groupby(['age'])\n",
    "       .mean())\n",
    "aux.plot.bar(figsize=(16,7), title='Mean ratings by age')\n",
    "plt.show()"
   ]
  },
  {
   "cell_type": "markdown",
   "metadata": {},
   "source": [
    "## Save clean dataFrame"
   ]
  },
  {
   "cell_type": "code",
   "execution_count": 12,
   "metadata": {},
   "outputs": [
    {
     "data": {
      "text/html": [
       "<div>\n",
       "<style>\n",
       "    .dataframe thead tr:only-child th {\n",
       "        text-align: right;\n",
       "    }\n",
       "\n",
       "    .dataframe thead th {\n",
       "        text-align: left;\n",
       "    }\n",
       "\n",
       "    .dataframe tbody tr th {\n",
       "        vertical-align: top;\n",
       "    }\n",
       "</style>\n",
       "<table border=\"1\" class=\"dataframe\">\n",
       "  <thead>\n",
       "    <tr style=\"text-align: right;\">\n",
       "      <th></th>\n",
       "      <th>userID</th>\n",
       "      <th>AFRICA</th>\n",
       "      <th>ASIA</th>\n",
       "      <th>DRINK</th>\n",
       "      <th>EU</th>\n",
       "      <th>LA</th>\n",
       "      <th>NA</th>\n",
       "      <th>ONEKIND</th>\n",
       "      <th>OTHER</th>\n",
       "      <th>American_Express</th>\n",
       "      <th>...</th>\n",
       "      <th>ambienceFreq</th>\n",
       "      <th>transportFreq</th>\n",
       "      <th>marital_statusFreq</th>\n",
       "      <th>hijosFreq</th>\n",
       "      <th>interestFreq</th>\n",
       "      <th>personalityFreq</th>\n",
       "      <th>religionFreq</th>\n",
       "      <th>activityFreq</th>\n",
       "      <th>colorFreq</th>\n",
       "      <th>budgetFreq</th>\n",
       "    </tr>\n",
       "  </thead>\n",
       "  <tbody>\n",
       "    <tr>\n",
       "      <th>0</th>\n",
       "      <td>U1001</td>\n",
       "      <td>0</td>\n",
       "      <td>0</td>\n",
       "      <td>0</td>\n",
       "      <td>0</td>\n",
       "      <td>0</td>\n",
       "      <td>1</td>\n",
       "      <td>0</td>\n",
       "      <td>0</td>\n",
       "      <td>0.0</td>\n",
       "      <td>...</td>\n",
       "      <td>0.507246</td>\n",
       "      <td>0.746377</td>\n",
       "      <td>0.884058</td>\n",
       "      <td>0.92029</td>\n",
       "      <td>0.362319</td>\n",
       "      <td>0.420290</td>\n",
       "      <td>0.217391</td>\n",
       "      <td>0.818841</td>\n",
       "      <td>0.152174</td>\n",
       "      <td>0.710145</td>\n",
       "    </tr>\n",
       "    <tr>\n",
       "      <th>1</th>\n",
       "      <td>U1002</td>\n",
       "      <td>0</td>\n",
       "      <td>0</td>\n",
       "      <td>0</td>\n",
       "      <td>0</td>\n",
       "      <td>1</td>\n",
       "      <td>0</td>\n",
       "      <td>0</td>\n",
       "      <td>0</td>\n",
       "      <td>0.0</td>\n",
       "      <td>...</td>\n",
       "      <td>0.507246</td>\n",
       "      <td>0.746377</td>\n",
       "      <td>0.884058</td>\n",
       "      <td>0.92029</td>\n",
       "      <td>0.260870</td>\n",
       "      <td>0.086957</td>\n",
       "      <td>0.717391</td>\n",
       "      <td>0.818841</td>\n",
       "      <td>0.108696</td>\n",
       "      <td>0.253623</td>\n",
       "    </tr>\n",
       "    <tr>\n",
       "      <th>2</th>\n",
       "      <td>U1003</td>\n",
       "      <td>0</td>\n",
       "      <td>0</td>\n",
       "      <td>0</td>\n",
       "      <td>0</td>\n",
       "      <td>1</td>\n",
       "      <td>0</td>\n",
       "      <td>0</td>\n",
       "      <td>0</td>\n",
       "      <td>0.0</td>\n",
       "      <td>...</td>\n",
       "      <td>0.507246</td>\n",
       "      <td>0.746377</td>\n",
       "      <td>0.884058</td>\n",
       "      <td>0.92029</td>\n",
       "      <td>0.217391</td>\n",
       "      <td>0.442029</td>\n",
       "      <td>0.717391</td>\n",
       "      <td>0.818841</td>\n",
       "      <td>0.326087</td>\n",
       "      <td>0.253623</td>\n",
       "    </tr>\n",
       "    <tr>\n",
       "      <th>3</th>\n",
       "      <td>U1004</td>\n",
       "      <td>0</td>\n",
       "      <td>1</td>\n",
       "      <td>2</td>\n",
       "      <td>1</td>\n",
       "      <td>1</td>\n",
       "      <td>0</td>\n",
       "      <td>2</td>\n",
       "      <td>2</td>\n",
       "      <td>0.0</td>\n",
       "      <td>...</td>\n",
       "      <td>0.507246</td>\n",
       "      <td>0.746377</td>\n",
       "      <td>0.884058</td>\n",
       "      <td>0.92029</td>\n",
       "      <td>0.362319</td>\n",
       "      <td>0.442029</td>\n",
       "      <td>0.217391</td>\n",
       "      <td>0.108696</td>\n",
       "      <td>0.137681</td>\n",
       "      <td>0.710145</td>\n",
       "    </tr>\n",
       "    <tr>\n",
       "      <th>4</th>\n",
       "      <td>U1005</td>\n",
       "      <td>0</td>\n",
       "      <td>0</td>\n",
       "      <td>0</td>\n",
       "      <td>0</td>\n",
       "      <td>0</td>\n",
       "      <td>1</td>\n",
       "      <td>0</td>\n",
       "      <td>0</td>\n",
       "      <td>0.0</td>\n",
       "      <td>...</td>\n",
       "      <td>0.507246</td>\n",
       "      <td>0.746377</td>\n",
       "      <td>0.884058</td>\n",
       "      <td>0.92029</td>\n",
       "      <td>0.217391</td>\n",
       "      <td>0.420290</td>\n",
       "      <td>0.717391</td>\n",
       "      <td>0.818841</td>\n",
       "      <td>0.152174</td>\n",
       "      <td>0.710145</td>\n",
       "    </tr>\n",
       "  </tbody>\n",
       "</table>\n",
       "<p>5 rows × 45 columns</p>\n",
       "</div>"
      ],
      "text/plain": [
       "  userID  AFRICA  ASIA  DRINK  EU  LA  NA  ONEKIND  OTHER  American_Express  \\\n",
       "0  U1001       0     0      0   0   0   1        0      0               0.0   \n",
       "1  U1002       0     0      0   0   1   0        0      0               0.0   \n",
       "2  U1003       0     0      0   0   1   0        0      0               0.0   \n",
       "3  U1004       0     1      2   1   1   0        2      2               0.0   \n",
       "4  U1005       0     0      0   0   0   1        0      0               0.0   \n",
       "\n",
       "     ...      ambienceFreq  transportFreq  marital_statusFreq  hijosFreq  \\\n",
       "0    ...          0.507246       0.746377            0.884058    0.92029   \n",
       "1    ...          0.507246       0.746377            0.884058    0.92029   \n",
       "2    ...          0.507246       0.746377            0.884058    0.92029   \n",
       "3    ...          0.507246       0.746377            0.884058    0.92029   \n",
       "4    ...          0.507246       0.746377            0.884058    0.92029   \n",
       "\n",
       "   interestFreq  personalityFreq  religionFreq  activityFreq  colorFreq  \\\n",
       "0      0.362319         0.420290      0.217391      0.818841   0.152174   \n",
       "1      0.260870         0.086957      0.717391      0.818841   0.108696   \n",
       "2      0.217391         0.442029      0.717391      0.818841   0.326087   \n",
       "3      0.362319         0.442029      0.217391      0.108696   0.137681   \n",
       "4      0.217391         0.420290      0.717391      0.818841   0.152174   \n",
       "\n",
       "  budgetFreq  \n",
       "0   0.710145  \n",
       "1   0.253623  \n",
       "2   0.253623  \n",
       "3   0.710145  \n",
       "4   0.710145  \n",
       "\n",
       "[5 rows x 45 columns]"
      ]
     },
     "execution_count": 12,
     "metadata": {},
     "output_type": "execute_result"
    }
   ],
   "source": [
    "#merge dataset\n",
    "user = pd.merge(usrKit, usrPay, on='userID', how='outer')\n",
    "user = pd.merge(user, usrPf, on='userID', how='outer')\n",
    "user.head(5)"
   ]
  },
  {
   "cell_type": "code",
   "execution_count": 13,
   "metadata": {},
   "outputs": [
    {
     "name": "stdout",
     "output_type": "stream",
     "text": [
      "<class 'pandas.core.frame.DataFrame'>\n",
      "Int64Index: 138 entries, 0 to 137\n",
      "Data columns (total 46 columns):\n",
      "userID                  138 non-null object\n",
      "AFRICA                  138 non-null uint8\n",
      "ASIA                    138 non-null uint8\n",
      "DRINK                   138 non-null uint8\n",
      "EU                      138 non-null uint8\n",
      "LA                      138 non-null uint8\n",
      "NA                      138 non-null uint8\n",
      "ONEKIND                 138 non-null uint8\n",
      "OTHER                   138 non-null uint8\n",
      "American_Express        133 non-null float64\n",
      "MasterCard-Eurocard     133 non-null float64\n",
      "VISA                    133 non-null float64\n",
      "bank_debit_cards        133 non-null float64\n",
      "cash                    133 non-null float64\n",
      "latitude                138 non-null float64\n",
      "longitude               138 non-null float64\n",
      "smoker                  138 non-null int64\n",
      "drink_level             138 non-null int64\n",
      "dress_preference        138 non-null int64\n",
      "ambience                138 non-null object\n",
      "transport               138 non-null int64\n",
      "marital_status          138 non-null object\n",
      "hijos                   138 non-null int64\n",
      "birth_year              138 non-null int64\n",
      "interest                138 non-null object\n",
      "personality             138 non-null object\n",
      "religion                138 non-null object\n",
      "activity                138 non-null object\n",
      "color                   138 non-null object\n",
      "weight                  138 non-null int64\n",
      "budget                  138 non-null int64\n",
      "height                  138 non-null float64\n",
      "age                     138 non-null int64\n",
      "drink_levelFreq         138 non-null float64\n",
      "dress_preferenceFreq    138 non-null float64\n",
      "ambienceFreq            138 non-null float64\n",
      "transportFreq           138 non-null float64\n",
      "marital_statusFreq      138 non-null float64\n",
      "hijosFreq               138 non-null float64\n",
      "interestFreq            138 non-null float64\n",
      "personalityFreq         138 non-null float64\n",
      "religionFreq            138 non-null float64\n",
      "activityFreq            138 non-null float64\n",
      "colorFreq               138 non-null float64\n",
      "budgetFreq              138 non-null float64\n",
      "userID_auto             138 non-null int64\n",
      "dtypes: float64(20), int64(10), object(8), uint8(8)\n",
      "memory usage: 43.1+ KB\n"
     ]
    },
    {
     "data": {
      "text/html": [
       "<div>\n",
       "<style>\n",
       "    .dataframe thead tr:only-child th {\n",
       "        text-align: right;\n",
       "    }\n",
       "\n",
       "    .dataframe thead th {\n",
       "        text-align: left;\n",
       "    }\n",
       "\n",
       "    .dataframe tbody tr th {\n",
       "        vertical-align: top;\n",
       "    }\n",
       "</style>\n",
       "<table border=\"1\" class=\"dataframe\">\n",
       "  <thead>\n",
       "    <tr style=\"text-align: right;\">\n",
       "      <th></th>\n",
       "      <th>userID</th>\n",
       "      <th>AFRICA</th>\n",
       "      <th>ASIA</th>\n",
       "      <th>DRINK</th>\n",
       "      <th>EU</th>\n",
       "      <th>LA</th>\n",
       "      <th>NA</th>\n",
       "      <th>ONEKIND</th>\n",
       "      <th>OTHER</th>\n",
       "      <th>American_Express</th>\n",
       "      <th>...</th>\n",
       "      <th>transportFreq</th>\n",
       "      <th>marital_statusFreq</th>\n",
       "      <th>hijosFreq</th>\n",
       "      <th>interestFreq</th>\n",
       "      <th>personalityFreq</th>\n",
       "      <th>religionFreq</th>\n",
       "      <th>activityFreq</th>\n",
       "      <th>colorFreq</th>\n",
       "      <th>budgetFreq</th>\n",
       "      <th>userID_auto</th>\n",
       "    </tr>\n",
       "  </thead>\n",
       "  <tbody>\n",
       "    <tr>\n",
       "      <th>0</th>\n",
       "      <td>U1001</td>\n",
       "      <td>0</td>\n",
       "      <td>0</td>\n",
       "      <td>0</td>\n",
       "      <td>0</td>\n",
       "      <td>0</td>\n",
       "      <td>1</td>\n",
       "      <td>0</td>\n",
       "      <td>0</td>\n",
       "      <td>0.0</td>\n",
       "      <td>...</td>\n",
       "      <td>0.746377</td>\n",
       "      <td>0.884058</td>\n",
       "      <td>0.92029</td>\n",
       "      <td>0.362319</td>\n",
       "      <td>0.420290</td>\n",
       "      <td>0.217391</td>\n",
       "      <td>0.818841</td>\n",
       "      <td>0.152174</td>\n",
       "      <td>0.710145</td>\n",
       "      <td>0</td>\n",
       "    </tr>\n",
       "    <tr>\n",
       "      <th>1</th>\n",
       "      <td>U1002</td>\n",
       "      <td>0</td>\n",
       "      <td>0</td>\n",
       "      <td>0</td>\n",
       "      <td>0</td>\n",
       "      <td>1</td>\n",
       "      <td>0</td>\n",
       "      <td>0</td>\n",
       "      <td>0</td>\n",
       "      <td>0.0</td>\n",
       "      <td>...</td>\n",
       "      <td>0.746377</td>\n",
       "      <td>0.884058</td>\n",
       "      <td>0.92029</td>\n",
       "      <td>0.260870</td>\n",
       "      <td>0.086957</td>\n",
       "      <td>0.717391</td>\n",
       "      <td>0.818841</td>\n",
       "      <td>0.108696</td>\n",
       "      <td>0.253623</td>\n",
       "      <td>1</td>\n",
       "    </tr>\n",
       "    <tr>\n",
       "      <th>2</th>\n",
       "      <td>U1003</td>\n",
       "      <td>0</td>\n",
       "      <td>0</td>\n",
       "      <td>0</td>\n",
       "      <td>0</td>\n",
       "      <td>1</td>\n",
       "      <td>0</td>\n",
       "      <td>0</td>\n",
       "      <td>0</td>\n",
       "      <td>0.0</td>\n",
       "      <td>...</td>\n",
       "      <td>0.746377</td>\n",
       "      <td>0.884058</td>\n",
       "      <td>0.92029</td>\n",
       "      <td>0.217391</td>\n",
       "      <td>0.442029</td>\n",
       "      <td>0.717391</td>\n",
       "      <td>0.818841</td>\n",
       "      <td>0.326087</td>\n",
       "      <td>0.253623</td>\n",
       "      <td>2</td>\n",
       "    </tr>\n",
       "  </tbody>\n",
       "</table>\n",
       "<p>3 rows × 46 columns</p>\n",
       "</div>"
      ],
      "text/plain": [
       "  userID  AFRICA  ASIA  DRINK  EU  LA  NA  ONEKIND  OTHER  American_Express  \\\n",
       "0  U1001       0     0      0   0   0   1        0      0               0.0   \n",
       "1  U1002       0     0      0   0   1   0        0      0               0.0   \n",
       "2  U1003       0     0      0   0   1   0        0      0               0.0   \n",
       "\n",
       "      ...      transportFreq  marital_statusFreq  hijosFreq  interestFreq  \\\n",
       "0     ...           0.746377            0.884058    0.92029      0.362319   \n",
       "1     ...           0.746377            0.884058    0.92029      0.260870   \n",
       "2     ...           0.746377            0.884058    0.92029      0.217391   \n",
       "\n",
       "   personalityFreq  religionFreq  activityFreq  colorFreq  budgetFreq  \\\n",
       "0         0.420290      0.217391      0.818841   0.152174    0.710145   \n",
       "1         0.086957      0.717391      0.818841   0.108696    0.253623   \n",
       "2         0.442029      0.717391      0.818841   0.326087    0.253623   \n",
       "\n",
       "  userID_auto  \n",
       "0           0  \n",
       "1           1  \n",
       "2           2  \n",
       "\n",
       "[3 rows x 46 columns]"
      ]
     },
     "execution_count": 13,
     "metadata": {},
     "output_type": "execute_result"
    }
   ],
   "source": [
    "#--------------------------------Create autonumerate ID columns----------------------------------\n",
    "user['userID_auto'] = (user['userID'].str[1:].astype(str).astype(int))-1001 #user\n",
    "user.info()\n",
    "user.head(3)"
   ]
  },
  {
   "cell_type": "code",
   "execution_count": 14,
   "metadata": {},
   "outputs": [],
   "source": [
    "user.to_csv('userClean.csv', encoding='utf-8', index=False)"
   ]
  },
  {
   "cell_type": "code",
   "execution_count": null,
   "metadata": {},
   "outputs": [],
   "source": []
  }
 ],
 "metadata": {
  "kernelspec": {
   "display_name": "Python 3.6",
   "language": "python",
   "name": "python36"
  },
  "language_info": {
   "codemirror_mode": {
    "name": "ipython",
    "version": 3
   },
   "file_extension": ".py",
   "mimetype": "text/x-python",
   "name": "python",
   "nbconvert_exporter": "python",
   "pygments_lexer": "ipython3",
   "version": "3.6.3"
  }
 },
 "nbformat": 4,
 "nbformat_minor": 2
}
