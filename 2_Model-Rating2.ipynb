{
 "cells": [
  {
   "cell_type": "markdown",
   "metadata": {},
   "source": [
    "# Recommender system and content based filtering \n",
    "## Gustavo Augusto Mondragón Sánchez\n",
    "\n",
    "**------------------------------------------------------------------------------------------------**"
   ]
  },
  {
   "cell_type": "markdown",
   "metadata": {},
   "source": [
    "## Python enviroment configuration"
   ]
  },
  {
   "cell_type": "code",
   "execution_count": 1,
   "metadata": {
    "scrolled": false
   },
   "outputs": [],
   "source": [
    "#!pip install numpy cython\n",
    "#!pip install six==1.10.0\n",
    "#!pip install msrest==0.4.5\n",
    "#!pip install scipy==1.0.0\n",
    "#!pip install fastlmm\n",
    "#!pip install argparse\n",
    "#!pip install scipy\n",
    "#!pip install -U turicreate\n",
    "#!pip install scikit-surprise"
   ]
  },
  {
   "cell_type": "markdown",
   "metadata": {},
   "source": [
    "## Libraries"
   ]
  },
  {
   "cell_type": "code",
   "execution_count": 2,
   "metadata": {},
   "outputs": [],
   "source": [
    "import pandas as pd\n",
    "import numpy as np\n",
    "import matplotlib.pyplot as plt\n",
    "import datetime as dt\n",
    "np.set_printoptions(precision=4)"
   ]
  },
  {
   "cell_type": "markdown",
   "metadata": {},
   "source": [
    "## Rating dataset  and configuration"
   ]
  },
  {
   "cell_type": "code",
   "execution_count": 3,
   "metadata": {},
   "outputs": [],
   "source": [
    "ratings = pd.read_csv('ratingClean.csv')"
   ]
  },
  {
   "cell_type": "code",
   "execution_count": 4,
   "metadata": {},
   "outputs": [
    {
     "name": "stdout",
     "output_type": "stream",
     "text": [
      "<class 'pandas.core.frame.DataFrame'>\n",
      "RangeIndex: 1161 entries, 0 to 1160\n",
      "Data columns (total 3 columns):\n",
      "userID_auto     1161 non-null int64\n",
      "placeID_auto    1161 non-null int64\n",
      "rating          1161 non-null int64\n",
      "dtypes: int64(3)\n",
      "memory usage: 27.3 KB\n"
     ]
    },
    {
     "data": {
      "text/html": [
       "<div>\n",
       "<style>\n",
       "    .dataframe thead tr:only-child th {\n",
       "        text-align: right;\n",
       "    }\n",
       "\n",
       "    .dataframe thead th {\n",
       "        text-align: left;\n",
       "    }\n",
       "\n",
       "    .dataframe tbody tr th {\n",
       "        vertical-align: top;\n",
       "    }\n",
       "</style>\n",
       "<table border=\"1\" class=\"dataframe\">\n",
       "  <thead>\n",
       "    <tr style=\"text-align: right;\">\n",
       "      <th></th>\n",
       "      <th>userID_auto</th>\n",
       "      <th>placeID_auto</th>\n",
       "      <th>rating</th>\n",
       "    </tr>\n",
       "  </thead>\n",
       "  <tbody>\n",
       "    <tr>\n",
       "      <th>0</th>\n",
       "      <td>76</td>\n",
       "      <td>123</td>\n",
       "      <td>2</td>\n",
       "    </tr>\n",
       "    <tr>\n",
       "      <th>1</th>\n",
       "      <td>76</td>\n",
       "      <td>84</td>\n",
       "      <td>2</td>\n",
       "    </tr>\n",
       "    <tr>\n",
       "      <th>2</th>\n",
       "      <td>76</td>\n",
       "      <td>31</td>\n",
       "      <td>2</td>\n",
       "    </tr>\n",
       "  </tbody>\n",
       "</table>\n",
       "</div>"
      ],
      "text/plain": [
       "   userID_auto  placeID_auto  rating\n",
       "0           76           123       2\n",
       "1           76            84       2\n",
       "2           76            31       2"
      ]
     },
     "execution_count": 4,
     "metadata": {},
     "output_type": "execute_result"
    }
   ],
   "source": [
    "ratings = ratings[['userID_auto','placeID_auto','rating']]\n",
    "n = len(ratings)\n",
    "ratings.info()\n",
    "ratings.head(3)"
   ]
  },
  {
   "cell_type": "code",
   "execution_count": 5,
   "metadata": {},
   "outputs": [
    {
     "data": {
      "text/plain": [
       "array([[<matplotlib.axes._subplots.AxesSubplot object at 0x7f86d0865d30>]],\n",
       "      dtype=object)"
      ]
     },
     "execution_count": 5,
     "metadata": {},
     "output_type": "execute_result"
    },
    {
     "data": {
      "image/png": "[encoded data removed]",
      "text/plain": [
       "<matplotlib.figure.Figure at 0x7f86d048eac8>"
      ]
     },
     "metadata": {},
     "output_type": "display_data"
    }
   ],
   "source": [
    "aux = ratings[['userID_auto','rating']]\n",
    "aux.groupby('userID_auto').count().hist()"
   ]
  },
  {
   "cell_type": "markdown",
   "metadata": {},
   "source": [
    "# 1. What would be the best recommendation for diners? Provide problem statement and codes in Python (preference) or R.\n",
    "\n",
    "### Problem statement:\n",
    "We want to get a top-n best restaurants recommendation by user. \n",
    "\n",
    "### \"Surprise\" recommender library"
   ]
  },
  {
   "cell_type": "code",
   "execution_count": 6,
   "metadata": {},
   "outputs": [],
   "source": [
    "from __future__ import (absolute_import, division, print_function,\n",
    "                        unicode_literals)\n",
    "\n",
    "from surprise import KNNWithMeans\n",
    "from surprise import dataset\n",
    "from surprise import Reader\n",
    "from surprise import evaluate, print_perf\n",
    "from surprise.model_selection import cross_validate\n",
    "from surprise import accuracy\n",
    "from surprise.model_selection import train_test_split"
   ]
  },
  {
   "cell_type": "markdown",
   "metadata": {},
   "source": [
    "### Model"
   ]
  },
  {
   "cell_type": "code",
   "execution_count": 7,
   "metadata": {},
   "outputs": [
    {
     "name": "stdout",
     "output_type": "stream",
     "text": [
      "Estimating biases using als...\n",
      "Computing the pearson_baseline similarity matrix...\n",
      "Done computing similarity matrix.\n",
      "Estimating biases using als...\n",
      "Computing the pearson_baseline similarity matrix...\n",
      "Done computing similarity matrix.\n",
      "Estimating biases using als...\n",
      "Computing the pearson_baseline similarity matrix...\n",
      "Done computing similarity matrix.\n",
      "Estimating biases using als...\n",
      "Computing the pearson_baseline similarity matrix...\n",
      "Done computing similarity matrix.\n",
      "Estimating biases using als...\n",
      "Computing the pearson_baseline similarity matrix...\n",
      "Done computing similarity matrix.\n",
      "Evaluating RMSE, MAE of algorithm KNNWithMeans on 5 split(s).\n",
      "\n",
      "                  Fold 1  Fold 2  Fold 3  Fold 4  Fold 5  Mean    Std     \n",
      "RMSE (testset)    0.7429  0.7601  0.7288  0.7338  0.7278  0.7387  0.0120  \n",
      "MAE (testset)     0.5727  0.6075  0.5854  0.5658  0.5679  0.5799  0.0154  \n",
      "Fit time          0.03    0.04    0.04    0.03    0.04    0.04    0.00    \n",
      "Test time         0.03    0.03    0.05    0.04    0.04    0.04    0.01    \n"
     ]
    },
    {
     "data": {
      "text/plain": [
       "0"
      ]
     },
     "execution_count": 7,
     "metadata": {},
     "output_type": "execute_result"
    }
   ],
   "source": [
    "# Load the ratings dataset. \n",
    "reader = Reader(line_format='user item rating', rating_scale=(1, 2))\n",
    "\n",
    "# Also, a dummy Dataset class\n",
    "class MyDataset(dataset.DatasetAutoFolds):\n",
    "\n",
    "    def __init__(self, df, reader):\n",
    "\n",
    "        self.raw_ratings = [(uid, iid, r, None) for (uid, iid, r) in\n",
    "                            zip(df['userID_auto'], df['placeID_auto'], df['rating'])]\n",
    "        self.reader=reader\n",
    "\n",
    "data = MyDataset(ratings, reader)\n",
    "trainset, testset = train_test_split(data, test_size=.15)\n",
    "\n",
    "algo = KNNWithMeans(k=10, sim_options={'name': 'pearson_baseline', 'user_based': True})\n",
    "#algo.fit(trainset)\n",
    "cross_validate(algo, data, measures=['RMSE', 'MAE'], cv=5, verbose=True)\n",
    "0"
   ]
  },
  {
   "cell_type": "code",
   "execution_count": 8,
   "metadata": {},
   "outputs": [
    {
     "name": "stdout",
     "output_type": "stream",
     "text": [
      "user: 50         item: 50         r_ui = 2.00   est = 1.20   {'was_impossible': True, 'reason': 'User and/or item is unkown.'}\n"
     ]
    }
   ],
   "source": [
    "# we can now query for specific predicions\n",
    "uid = str(50)  # raw user id\n",
    "iid = str(50)  # raw item id\n",
    "\n",
    "# get a prediction for specific users and items.\n",
    "pred = algo.predict(uid, iid, r_ui=2, verbose=True)"
   ]
  },
  {
   "cell_type": "markdown",
   "metadata": {},
   "source": [
    "# 2. Provide an explanation of the assumptions used and their results."
   ]
  },
  {
   "cell_type": "markdown",
   "metadata": {},
   "source": [
    "A collaborative filtering is a method of making automatic predictions about interest of the users. The main idea is that user may have similar preferences, so when two very similar user hace very little diferences they may have the oportinity of recommend each other some items. \n",
    "\n",
    "* User-user Collaborative Filtering: under this model prediction is set as:\n",
    "<img src=\"ColabFilter.PNG\" alt=\"Drawing\" style=\"width: 450px;\"/>\n",
    "* Where we make a mean \"normalization\" to get a mean based recommendation when a user or a restaurant don't have their feature specified. \n",
    "* We utilize the similarity measure between user u and user v."
   ]
  },
  {
   "cell_type": "code",
   "execution_count": 9,
   "metadata": {},
   "outputs": [
    {
     "name": "stdout",
     "output_type": "stream",
     "text": [
      "User-based Model : Test Set\n",
      "RMSE: 0.5049\n",
      "User-based Model : Training Set\n",
      "RMSE: 0.5304\n"
     ]
    },
    {
     "data": {
      "text/plain": [
       "0.5303955638039176"
      ]
     },
     "execution_count": 9,
     "metadata": {},
     "output_type": "execute_result"
    }
   ],
   "source": [
    "# run the trained model against the testset\n",
    "test_pred = algo.test(testset)\n",
    "\n",
    "# get RMSE\n",
    "print(\"User-based Model : Test Set\")\n",
    "accuracy.rmse(test_pred, verbose=True)\n",
    "\n",
    "# if you wanted to evaluate on the trainset\n",
    "print(\"User-based Model : Training Set\")\n",
    "train_pred = algo.test(trainset.build_testset())\n",
    "accuracy.rmse(train_pred)"
   ]
  },
  {
   "cell_type": "markdown",
   "metadata": {},
   "source": [
    "As we can see, the RMSE is very high jet (lower than 0.5 would be usefull). To improve the score maybe an algorithm that use profile information would help, a posible feature transformation is in dataProfiling books. "
   ]
  },
  {
   "cell_type": "markdown",
   "metadata": {},
   "source": [
    "# 3. Under the suposition that new restaurants were included, how would you calculate their ratings? Just write the statement of how you would estimate the rating; no codes are necessary.\n",
    "* Option 1, **K nearst neigborh**: the rating could be the mean value of the k nearst elements. We can use KNN or any clustering algorithm to get the most similar objetcts. We can use the restaurant profile and other datasets to get features about the restaurants and calculate the distance with euclidean or cosine metrics."
   ]
  },
  {
   "cell_type": "markdown",
   "metadata": {},
   "source": [
    "### Top 5 redommendation"
   ]
  },
  {
   "cell_type": "code",
   "execution_count": 11,
   "metadata": {},
   "outputs": [
    {
     "name": "stdout",
     "output_type": "stream",
     "text": [
      "86 [22]\n",
      "44 [31, 98]\n",
      "32 [78]\n",
      "60 [82, 76, 120, 117, 3]\n",
      "89 [53, 97]\n",
      "36 [44]\n",
      "104 [86, 32]\n",
      "23 [91, 115, 78, 77, 127]\n",
      "5 [49, 56]\n",
      "21 [81, 80, 121]\n",
      "109 [70, 28, 74]\n",
      "57 [50, 89]\n",
      "98 [105, 89, 88]\n",
      "77 [98]\n",
      "103 [123, 85, 87, 93]\n",
      "117 [68]\n",
      "122 [126, 6, 16]\n",
      "100 [98, 77, 97]\n",
      "49 [24]\n",
      "133 [116, 117, 120]\n",
      "96 [124, 58]\n",
      "84 [50, 46]\n",
      "114 [122]\n",
      "14 [113]\n",
      "40 [129]\n",
      "18 [33, 51]\n",
      "29 [72, 129, 65]\n",
      "120 [28]\n",
      "97 [105]\n",
      "58 [123, 57, 25, 117, 78]\n",
      "4 [96]\n",
      "80 [89, 31]\n",
      "113 [21, 109]\n",
      "68 [36, 128]\n",
      "0 [85]\n",
      "111 [124, 92, 33]\n",
      "121 [99]\n",
      "124 [96, 88, 89]\n",
      "52 [121, 106, 107, 31]\n",
      "129 [12]\n",
      "12 [3]\n",
      "17 [111]\n",
      "70 [80, 78]\n",
      "73 [69]\n",
      "99 [29]\n",
      "61 [123, 33]\n",
      "37 [40, 38]\n",
      "75 [115]\n",
      "11 [65]\n",
      "33 [101, 49]\n",
      "47 [82, 76, 94]\n",
      "132 [27, 61]\n",
      "24 [48, 31, 93]\n",
      "1 [87, 53]\n",
      "31 [105, 123]\n",
      "26 [51]\n",
      "46 [48]\n",
      "56 [56]\n",
      "108 [31]\n",
      "95 [101, 124, 21]\n",
      "83 [41]\n",
      "119 [34]\n",
      "62 [5, 13]\n",
      "107 [103]\n",
      "123 [128, 111, 96]\n",
      "63 [102]\n",
      "72 [55, 109]\n",
      "110 [40]\n",
      "88 [108, 33, 103]\n",
      "85 [51]\n",
      "34 [67]\n",
      "136 [26]\n",
      "53 [106]\n",
      "69 [9]\n",
      "102 [23, 14]\n",
      "79 [2]\n",
      "55 [77, 118]\n",
      "27 [9]\n",
      "90 [49, 117]\n",
      "3 [127]\n",
      "116 [67]\n",
      "81 [22]\n",
      "125 [86]\n",
      "8 [105]\n",
      "128 [1]\n",
      "87 [102]\n",
      "15 [91, 39]\n",
      "91 [3]\n",
      "45 [90]\n",
      "105 [42, 87]\n",
      "48 [97]\n",
      "28 [31]\n",
      "94 [46]\n",
      "92 [68]\n",
      "35 [109]\n",
      "74 [118, 32]\n",
      "112 [39]\n",
      "22 [23]\n",
      "134 [107]\n",
      "42 [11]\n"
     ]
    }
   ],
   "source": [
    "from collections import defaultdict\n",
    "\n",
    "def get_top_n(predictions, n=10):\n",
    "    '''Return the top-N recommendation for each user from a set of predictions.\n",
    "\n",
    "    Args:\n",
    "        predictions(list of Prediction objects): The list of predictions, as\n",
    "            returned by the test method of an algorithm.\n",
    "        n(int): The number of recommendation to output for each user. Default\n",
    "            is 10.\n",
    "\n",
    "    Returns:\n",
    "    A dict where keys are user (raw) ids and values are lists of tuples:\n",
    "        [(raw item id, rating estimation), ...] of size n.\n",
    "    '''\n",
    "\n",
    "    # First map the predictions to each user.\n",
    "    top_n = defaultdict(list)\n",
    "    for uid, iid, true_r, est, _ in predictions:\n",
    "        top_n[uid].append((iid, est))\n",
    "\n",
    "    # Then sort the predictions for each user and retrieve the k highest ones.\n",
    "    for uid, user_ratings in top_n.items():\n",
    "        user_ratings.sort(key=lambda x: x[1], reverse=True)\n",
    "        top_n[uid] = user_ratings[:n]\n",
    "\n",
    "    return top_n\n",
    "\n",
    "top_n = get_top_n(test_pred, n=5)\n",
    "\n",
    "# Print the recommended items for each user\n",
    "for uid, user_ratings in top_n.items():\n",
    "    print(uid, [iid for (iid, _) in user_ratings])"
   ]
  },
  {
   "cell_type": "markdown",
   "metadata": {},
   "source": [
    "### References:\n",
    "* Surprise GitHub repository\n",
    "https://github.com/NicolasHug/Surprise\n",
    "http://surpriselib.com/\n",
    "* Analytics Vidhya blog: *Comprehensive Guide to build a Recommendation Engine from scratch (in Python)*\n",
    "https://www.analyticsvidhya.com/blog/2018/06/comprehensive-guide-recommendation-engine-python/\n",
    "* Medium.com *USER-USER Collaborative filtering Recommender System in Python*\n",
    "https://medium.com/@tomar.ankur287/user-user-collaborative-filtering-recommender-system-51f568489727"
   ]
  },
  {
   "cell_type": "code",
   "execution_count": null,
   "metadata": {},
   "outputs": [],
   "source": []
  }
 ],
 "metadata": {
  "kernelspec": {
   "display_name": "Python 3.6",
   "language": "python",
   "name": "python36"
  },
  "language_info": {
   "codemirror_mode": {
    "name": "ipython",
    "version": 3
   },
   "file_extension": ".py",
   "mimetype": "text/x-python",
   "name": "python",
   "nbconvert_exporter": "python",
   "pygments_lexer": "ipython3",
   "version": "3.6.3"
  }
 },
 "nbformat": 4,
 "nbformat_minor": 2
}
